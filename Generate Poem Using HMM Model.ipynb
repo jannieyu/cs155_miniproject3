{
 "cells": [
  {
   "cell_type": "code",
   "execution_count": null,
   "metadata": {
    "colab": {},
    "colab_type": "code",
    "id": "NysNQlbVlvP0"
   },
   "outputs": [],
   "source": [
    "import os\n",
    "import numpy as np\n",
    "from IPython.display import HTML\n",
    "\n",
    "from HMM import unsupervised_HMM\n",
    "from HMM_helper import (\n",
    "    text_to_wordcloud,\n",
    "    states_to_wordclouds,\n",
    "    parse_observations,\n",
    "    sample_sentence,\n",
    "    visualize_sparsities,\n",
    "    animate_emission,\n",
    "    get_syllable_dict,\n",
    "    sample_rhyming_sonnet,\n",
    "    get_rhyme_dict\n",
    ")"
   ]
  },
  {
   "cell_type": "code",
   "execution_count": null,
   "metadata": {
    "colab": {
     "base_uri": "https://localhost:8080/",
     "height": 273
    },
    "colab_type": "code",
    "id": "J3s457RsosP7",
    "outputId": "51e01480-aae8-4a20-b9b3-797442d6427f"
   },
   "outputs": [],
   "source": [
    "text = open(os.path.join(os.getcwd(), 'data/shakespeare.txt')).read()\n",
    "\n",
    "wordcloud = text_to_wordcloud(text, title='Shakespeare')"
   ]
  },
  {
   "cell_type": "code",
   "execution_count": null,
   "metadata": {
    "colab": {
     "base_uri": "https://localhost:8080/",
     "height": 1000
    },
    "colab_type": "code",
    "id": "z7eMwN64o_oQ",
    "outputId": "73c1fcef-a604-4c49-a6d9-5fa6ee869caf",
    "scrolled": false
   },
   "outputs": [],
   "source": [
    "obs, obs_map = parse_observations(text)\n",
    "epochs = 100\n",
    "hidden_states = [20]\n",
    "\n",
    "for hs in hidden_states:\n",
    "    hmm = unsupervised_HMM(obs, hs, epochs, reverse=True)\n",
    "    print('Using ' + str(hs) + ' hidden states')\n",
    "    visualize_sparsities(hmm, O_max_cols=50)"
   ]
  },
  {
   "cell_type": "code",
   "execution_count": null,
   "metadata": {},
   "outputs": [],
   "source": [
    "import time\n",
    "import pickle\n",
    "\n",
    "obs, obs_map = parse_observations(text)\n",
    "\n",
    "# with open('finalized_model50.sav', 'rb') as handle:\n",
    "#     loaded = pickle.load(handle)\n",
    "    \n",
    "t = sample_rhyming_sonnet(hmm, obs_map, get_rhyme_dict(text))\n",
    "print(t)"
   ]
  },
  {
   "cell_type": "code",
   "execution_count": null,
   "metadata": {},
   "outputs": [],
   "source": [
    "import networkx as nx\n",
    "import matplotlib.pyplot as plt\n",
    "from matplotlib.axes import Axes\n",
    "\n",
    "G = nx.DiGraph()\n",
    "\n",
    "options = {\n",
    "    'node_size': 80,\n",
    "    'width': 1,\n",
    "    'linewidths': 0.5,\n",
    "    'font_size': 8,\n",
    "    'node_color': 'yellow'\n",
    "}\n",
    "\n",
    "# Create network of most common state transitions\n",
    "\n",
    "# Add all states to graph as vertices\n",
    "for state in range(len(hmm.A)):\n",
    "    G.add_node(state)\n",
    "\n",
    "for state in range(len(hmm.A)):\n",
    "    # Get most probable next state\n",
    "    next_state = np.argmax(hmm.A[state])\n",
    "    # Add directed edge between current state and next state\n",
    "    G.add_edge(state, next_state)\n",
    "\n",
    "nx.draw(G, with_labels=True, font_weight='bold', **options)"
   ]
  },
  {
   "cell_type": "code",
   "execution_count": null,
   "metadata": {},
   "outputs": [],
   "source": []
  }
 ],
 "metadata": {
  "accelerator": "GPU",
  "colab": {
   "collapsed_sections": [],
   "name": "155mini3.ipynb",
   "provenance": [],
   "toc_visible": true
  },
  "kernelspec": {
   "display_name": "Python 3",
   "language": "python",
   "name": "python3"
  },
  "language_info": {
   "codemirror_mode": {
    "name": "ipython",
    "version": 3
   },
   "file_extension": ".py",
   "mimetype": "text/x-python",
   "name": "python",
   "nbconvert_exporter": "python",
   "pygments_lexer": "ipython3",
   "version": "3.7.3"
  }
 },
 "nbformat": 4,
 "nbformat_minor": 1
}
